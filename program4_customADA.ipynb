{
  "nbformat": 4,
  "nbformat_minor": 0,
  "metadata": {
    "colab": {
      "provenance": []
    },
    "kernelspec": {
      "name": "python3",
      "display_name": "Python 3"
    },
    "language_info": {
      "name": "python"
    }
  },
  "cells": [
    {
      "cell_type": "code",
      "execution_count": null,
      "metadata": {
        "id": "uaNeryNVh2on",
        "colab": {
          "base_uri": "https://localhost:8080/"
        },
        "outputId": "fa2fd8c0-f2ff-400f-9487-318281558da2"
      },
      "outputs": [
        {
          "output_type": "stream",
          "name": "stdout",
          "text": [
            "Downloading http://yann.lecun.com/exdb/mnist/train-images-idx3-ubyte.gz\n",
            "Failed to download (trying next):\n",
            "HTTP Error 403: Forbidden\n",
            "\n",
            "Downloading https://ossci-datasets.s3.amazonaws.com/mnist/train-images-idx3-ubyte.gz\n",
            "Downloading https://ossci-datasets.s3.amazonaws.com/mnist/train-images-idx3-ubyte.gz to ./data/MNIST/raw/train-images-idx3-ubyte.gz\n"
          ]
        },
        {
          "output_type": "stream",
          "name": "stderr",
          "text": [
            "100%|██████████| 9912422/9912422 [00:00<00:00, 54580497.14it/s]\n"
          ]
        },
        {
          "output_type": "stream",
          "name": "stdout",
          "text": [
            "Extracting ./data/MNIST/raw/train-images-idx3-ubyte.gz to ./data/MNIST/raw\n",
            "\n",
            "Downloading http://yann.lecun.com/exdb/mnist/train-labels-idx1-ubyte.gz\n",
            "Failed to download (trying next):\n",
            "HTTP Error 403: Forbidden\n",
            "\n",
            "Downloading https://ossci-datasets.s3.amazonaws.com/mnist/train-labels-idx1-ubyte.gz\n",
            "Downloading https://ossci-datasets.s3.amazonaws.com/mnist/train-labels-idx1-ubyte.gz to ./data/MNIST/raw/train-labels-idx1-ubyte.gz\n"
          ]
        },
        {
          "output_type": "stream",
          "name": "stderr",
          "text": [
            "100%|██████████| 28881/28881 [00:00<00:00, 1608451.43it/s]\n"
          ]
        },
        {
          "output_type": "stream",
          "name": "stdout",
          "text": [
            "Extracting ./data/MNIST/raw/train-labels-idx1-ubyte.gz to ./data/MNIST/raw\n",
            "\n",
            "Downloading http://yann.lecun.com/exdb/mnist/t10k-images-idx3-ubyte.gz\n",
            "Failed to download (trying next):\n",
            "HTTP Error 403: Forbidden\n",
            "\n",
            "Downloading https://ossci-datasets.s3.amazonaws.com/mnist/t10k-images-idx3-ubyte.gz\n",
            "Downloading https://ossci-datasets.s3.amazonaws.com/mnist/t10k-images-idx3-ubyte.gz to ./data/MNIST/raw/t10k-images-idx3-ubyte.gz\n"
          ]
        },
        {
          "output_type": "stream",
          "name": "stderr",
          "text": [
            "100%|██████████| 1648877/1648877 [00:00<00:00, 14071762.63it/s]\n"
          ]
        },
        {
          "output_type": "stream",
          "name": "stdout",
          "text": [
            "Extracting ./data/MNIST/raw/t10k-images-idx3-ubyte.gz to ./data/MNIST/raw\n",
            "\n",
            "Downloading http://yann.lecun.com/exdb/mnist/t10k-labels-idx1-ubyte.gz\n",
            "Failed to download (trying next):\n",
            "HTTP Error 403: Forbidden\n",
            "\n",
            "Downloading https://ossci-datasets.s3.amazonaws.com/mnist/t10k-labels-idx1-ubyte.gz\n",
            "Downloading https://ossci-datasets.s3.amazonaws.com/mnist/t10k-labels-idx1-ubyte.gz to ./data/MNIST/raw/t10k-labels-idx1-ubyte.gz\n"
          ]
        },
        {
          "output_type": "stream",
          "name": "stderr",
          "text": [
            "100%|██████████| 4542/4542 [00:00<00:00, 3552214.95it/s]"
          ]
        },
        {
          "output_type": "stream",
          "name": "stdout",
          "text": [
            "Extracting ./data/MNIST/raw/t10k-labels-idx1-ubyte.gz to ./data/MNIST/raw\n",
            "\n"
          ]
        },
        {
          "output_type": "stream",
          "name": "stderr",
          "text": [
            "\n"
          ]
        }
      ],
      "source": [
        "import torch\n",
        "import torch.nn as nn\n",
        "import torch.nn.functional as F\n",
        "from torchvision import datasets, transforms\n",
        "from torch.utils.data import DataLoader, Subset\n",
        "\n",
        "transform = transforms.Compose([\n",
        "    transforms.ToTensor(),\n",
        "    transforms.Normalize((0.1307,), (0.3081,))\n",
        "])\n",
        "\n",
        "train_dataset = datasets.MNIST(root=\"./data\", train=True, download=True, transform=transform)\n",
        "test_dataset = datasets.MNIST(root=\"./data\", train=False, download=True, transform=transform)\n",
        "\n",
        "train_subset = Subset(train_dataset, range(200))\n",
        "test_subset = Subset(test_dataset, range(50))\n",
        "\n",
        "train_loader = DataLoader(train_subset, batch_size=10, shuffle=True)\n",
        "test_loader = DataLoader(test_subset, batch_size=10, shuffle=False)\n",
        "\n",
        "\n",
        "class SimpleCNN(nn.Module):\n",
        "    def __init__(self):\n",
        "        super(SimpleCNN, self).__init__()\n",
        "        self.conv1 = nn.Conv2d(1, 10, kernel_size=5)\n",
        "        self.conv2 = nn.Conv2d(10, 20, kernel_size=5)\n",
        "        self.fc1 = nn.Linear(320, 50)\n",
        "        self.fc2 = nn.Linear(50, 10)\n",
        "\n",
        "    def forward(self, x):\n",
        "        x = F.relu(F.max_pool2d(self.conv1(x), 2))\n",
        "        x = F.relu(F.max_pool2d(self.conv2(x), 2))\n",
        "        x = x.view(-1, 320)\n",
        "        x = F.relu(self.fc1(x))\n",
        "        x = self.fc2(x)\n",
        "        return F.log_softmax(x, dim=1)\n",
        "\n",
        "def sgd_update(parameters, lr):\n",
        "    with torch.no_grad():\n",
        "        for param in parameters:\n",
        "            if param.grad is not None:\n",
        "                param.data -= lr * param.grad.data\n",
        "                param.grad.zero_()\n",
        "\n",
        "class CustomAdagrad:\n",
        "    def __init__(self, parameters, lr=0.01, epsilon=1e-10):\n",
        "        self.parameters = list(parameters)\n",
        "        self.lr = lr\n",
        "        self.epsilon = epsilon\n",
        "        self.sum_squared_gradients = [torch.zeros_like(p) for p in self.parameters]\n",
        "\n",
        "    def step(self):\n",
        "        with torch.no_grad():\n",
        "            for param, sum_sq_grad in zip(self.parameters, self.sum_squared_gradients):\n",
        "                if param.grad is not None:\n",
        "                    sum_sq_grad += param.grad.data ** 2\n",
        "                    adjusted_lr = self.lr / (self.epsilon + torch.sqrt(sum_sq_grad))\n",
        "                    param.data -= adjusted_lr * param.grad.data\n",
        "                    param.grad.zero_()\n",
        "\n",
        "\n",
        "device = torch.device('cpu')\n",
        "model = SimpleCNN().to(device)\n",
        "criterion = nn.CrossEntropyLoss()\n",
        "\n",
        "def train_model(num_epochs, optimizer_choice='adagrad'):\n",
        "    if optimizer_choice == 'sgd':\n",
        "        optimizer = None\n",
        "    else:\n",
        "        optimizer = CustomAdagrad(model.parameters(), lr=0.01)\n",
        "    for epoch in range(num_epochs):\n",
        "        model.train()\n",
        "        train_loss = 0\n",
        "        correct_train = 0\n",
        "        total_train = 0\n",
        "        for data, target in train_loader:\n",
        "            data, target = data.to(device), target.to(device)\n",
        "            output = model(data)\n",
        "            loss = criterion(output, target)\n",
        "            loss.backward()\n",
        "            if optimizer_choice == 'sgd':\n",
        "                sgd_update(model.parameters(), lr=0.01)\n",
        "            else:\n",
        "                optimizer.step()\n",
        "            train_loss += loss.item()\n",
        "            predicted = torch.argmax(output.data, dim=1)\n",
        "            total_train += target.size(0)\n",
        "            correct_train += (predicted == target).sum().item()\n",
        "\n",
        "        avg_train_loss = train_loss/len(train_loader)\n",
        "        train_acc = 100 * correct_train/total_train\n",
        "\n",
        "        model.eval()\n",
        "        test_loss = 0\n",
        "        correct_test = 0\n",
        "        total_test = 0\n",
        "        with torch.no_grad():\n",
        "            for data, target in test_loader:\n",
        "                output = model(data)\n",
        "                loss = criterion(output, target)\n",
        "                test_loss += loss.item()\n",
        "                predicted = torch.argmax(output.data, dim=1)\n",
        "                total_test += target.size(0)\n",
        "                correct_test += (predicted == target).sum().item()\n",
        "\n",
        "        avg_test_loss = test_loss/len(test_loader)\n",
        "        test_acc = 100 * correct_test/total_test\n",
        "        print(f'Epoch {epoch+1}, Train Loss: {avg_train_loss:.4f}, Train Accuracy: {train_acc:.8f}%, '\n",
        "              f'Test Loss: {avg_test_loss:.4f}, Test Accuracy: {test_acc:.8f}%')"
      ]
    },
    {
      "cell_type": "code",
      "source": [
        "train_model(7, optimizer_choice=\"adagrad\")"
      ],
      "metadata": {
        "colab": {
          "base_uri": "https://localhost:8080/"
        },
        "id": "CBFVpkUUh7rY",
        "outputId": "73dc667c-1ce1-4187-9d66-4b357f8faaef"
      },
      "execution_count": null,
      "outputs": [
        {
          "output_type": "stream",
          "name": "stdout",
          "text": [
            "Epoch 1, Train Loss: 1.9954, Train Accuracy: 38.50000000%, Test Loss: 1.1877, Test Accuracy: 70.00000000%\n",
            "Epoch 2, Train Loss: 0.8266, Train Accuracy: 76.00000000%, Test Loss: 0.6508, Test Accuracy: 70.00000000%\n",
            "Epoch 3, Train Loss: 0.4038, Train Accuracy: 90.50000000%, Test Loss: 0.5347, Test Accuracy: 78.00000000%\n",
            "Epoch 4, Train Loss: 0.2700, Train Accuracy: 90.50000000%, Test Loss: 0.4494, Test Accuracy: 82.00000000%\n",
            "Epoch 5, Train Loss: 0.1808, Train Accuracy: 93.50000000%, Test Loss: 0.4829, Test Accuracy: 82.00000000%\n",
            "Epoch 6, Train Loss: 0.1195, Train Accuracy: 97.50000000%, Test Loss: 0.4278, Test Accuracy: 82.00000000%\n",
            "Epoch 7, Train Loss: 0.0819, Train Accuracy: 98.50000000%, Test Loss: 0.4363, Test Accuracy: 84.00000000%\n"
          ]
        }
      ]
    }
  ]
}