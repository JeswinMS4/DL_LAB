{
  "cells": [
    {
      "cell_type": "markdown",
      "metadata": {
        "id": "jpguIG3s5t1Z"
      },
      "source": [
        "\n",
        "#### Program 4:\n",
        "\n",
        "##### Objective:\n",
        "Write a program to implement the SGD and Adagrad optimizers using the PyTorch framework, and compare results using the MNIST digit classification dataset. Use a simple CNN to illustrate the difference between the two optimizers.\n",
        "\n",
        "Perform the following steps:\n",
        "1. **Preprocess data**\n",
        "2. **Define SGD and Adagrad optimizers from scratch**\n",
        "3. **Define a simple CNN model architecture**\n",
        "4. **Train CNN model using suitable criterion and each optimizer**"
      ]
    },
    {
      "cell_type": "code",
      "execution_count": 4,
      "metadata": {
        "id": "KTEs4NzM5t1c"
      },
      "outputs": [],
      "source": [
        "import torch\n",
        "import torch.nn as nn\n",
        "import torch.nn.functional as F\n",
        "from torchvision import datasets, transforms\n",
        "from torch.utils.data import DataLoader, Subset\n",
        "from torch.optim import Optimizer\n",
        "\n",
        "# Data preprocessing\n",
        "transform = transforms.Compose([\n",
        "    transforms.ToTensor()\n",
        "])\n",
        "\n",
        "train_dataset = datasets.MNIST(root=\"./data\", train=True, download=True, transform=transform)\n",
        "test_dataset = datasets.MNIST(root=\"./data\", train=False, download=True, transform=transform)\n",
        "\n",
        "train_subset = Subset(train_dataset, range(200))\n",
        "test_subset = Subset(test_dataset, range(50))\n",
        "\n",
        "train_loader = DataLoader(train_subset, batch_size=10, shuffle=True)\n",
        "test_loader = DataLoader(test_subset, batch_size=10, shuffle=False)\n",
        "\n",
        "# Simple CNN model definition\n",
        "class SimpleCNN(nn.Module):\n",
        "    def __init__(self):\n",
        "        super(SimpleCNN, self).__init__()\n",
        "        self.conv1 = nn.Conv2d(1, 10, kernel_size=5)\n",
        "        self.conv2 = nn.Conv2d(10, 20, kernel_size=5)\n",
        "        self.fc1 = nn.Linear(320, 50)\n",
        "        self.fc2 = nn.Linear(50, 10)\n",
        "\n",
        "    def forward(self, x):\n",
        "        x = F.relu(F.max_pool2d(self.conv1(x), 2))\n",
        "        x = F.relu(F.max_pool2d(self.conv2(x), 2))\n",
        "        x = x.view(-1, 320)\n",
        "        x = F.relu(self.fc1(x))\n",
        "        x = self.fc2(x)\n",
        "        return F.log_softmax(x, dim=1)\n",
        "\n",
        "# SGD update function\n",
        "def sgd_update(parameters, lr):\n",
        "    with torch.no_grad():\n",
        "        for param in parameters:\n",
        "            if param.grad is not None:\n",
        "                param.data -= lr * param.grad.data\n",
        "                param.grad.zero_()\n",
        "\n",
        "# Custom Adagrad optimizer\n",
        "class CustomAdagrad(Optimizer):\n",
        "    def __init__(self, parameters, lr=0.01, epsilon=1e-10):\n",
        "        self.parameters = list(parameters)\n",
        "        self.lr = lr\n",
        "        self.epsilon = epsilon\n",
        "        self.sum_squared_gradients = [torch.zeros_like(p) for p in self.parameters]\n",
        "\n",
        "    def step(self):\n",
        "        with torch.no_grad():\n",
        "            for param, sum_sq_grad in zip(self.parameters, self.sum_squared_gradients):\n",
        "                if param.grad is not None:\n",
        "                    sum_sq_grad += param.grad.data ** 2\n",
        "                    adjusted_lr = self.lr / (self.epsilon + torch.sqrt(sum_sq_grad))\n",
        "                    param.data -= adjusted_lr * param.grad.data\n",
        "                    param.grad.zero_()\n",
        "\n",
        "    def zero_grad(self):\n",
        "        with torch.no_grad():\n",
        "            for param in self.parameters:\n",
        "                if param.grad is not None:\n",
        "                    param.grad.zero_()\n",
        "\n",
        "# Training setup\n",
        "device = torch.device('cpu')\n",
        "model = SimpleCNN().to(device)\n",
        "criterion = nn.CrossEntropyLoss()\n",
        "\n",
        "# Training function\n",
        "def train_model(num_epochs,model, optimizer_choice='adagrad'):\n",
        "    if optimizer_choice == 'sgd':\n",
        "        optimizer = None\n",
        "    else:\n",
        "        optimizer = CustomAdagrad(model.parameters(), lr=0.01)\n",
        "\n",
        "    for epoch in range(num_epochs):\n",
        "        model.train()\n",
        "        train_loss = 0\n",
        "        correct_train = 0\n",
        "        total_train = 0\n",
        "        for data, target in train_loader:\n",
        "            data, target = data.to(device), target.to(device)\n",
        "            if optimizer_choice == 'adagrad':\n",
        "                optimizer.zero_grad()\n",
        "            output = model(data)\n",
        "            loss = criterion(output, target)\n",
        "            loss.backward()\n",
        "            if optimizer_choice == 'sgd':\n",
        "                sgd_update(model.parameters(), lr=0.01)\n",
        "            else:\n",
        "                optimizer.step()\n",
        "            train_loss += loss.item()\n",
        "            predicted = torch.argmax(output.data, dim=1)\n",
        "            total_train += target.size(0)\n",
        "            correct_train += (predicted == target).sum().item()\n",
        "        avg_train_loss = train_loss / len(train_loader)\n",
        "        train_acc = 100 * correct_train / total_train\n",
        "\n",
        "        model.eval()\n",
        "        test_loss = 0\n",
        "        correct_test = 0\n",
        "        total_test = 0\n",
        "        with torch.no_grad():\n",
        "            for data, target in test_loader:\n",
        "                output = model(data)\n",
        "                loss = criterion(output, target)\n",
        "                test_loss += loss.item()\n",
        "                predicted = torch.argmax(output.data, dim=1)\n",
        "                total_test += target.size(0)\n",
        "                correct_test += (predicted == target).sum().item()\n",
        "        avg_test_loss = test_loss / len(test_loader)\n",
        "        test_acc = 100 * correct_test / total_test\n",
        "\n",
        "        print(f'Epoch {epoch+1}, Train Loss: {avg_train_loss:.4f}, Train Accuracy: {train_acc:.8f}%, '\n",
        "              f'Test Loss: {avg_test_loss:.4f}, Test Accuracy: {test_acc:.8f}%')\n",
        "\n"
      ]
    },
    {
      "cell_type": "code",
      "source": [
        "# Training setup\n",
        "device = torch.device('cpu')\n",
        "model1 = SimpleCNN().to(device)\n",
        "criterion = nn.CrossEntropyLoss()\n",
        "\n",
        "# Train the model\n",
        "train_model(5,model=model1, optimizer_choice='adagrad')"
      ],
      "metadata": {
        "colab": {
          "base_uri": "https://localhost:8080/"
        },
        "id": "HIQw9C-lZvF6",
        "outputId": "85c7ded1-ab55-488d-92e5-a9e542c71625"
      },
      "execution_count": 5,
      "outputs": [
        {
          "output_type": "stream",
          "name": "stdout",
          "text": [
            "Epoch 1, Train Loss: 2.1702, Train Accuracy: 25.50000000%, Test Loss: 1.6772, Test Accuracy: 48.00000000%\n",
            "Epoch 2, Train Loss: 1.0823, Train Accuracy: 68.00000000%, Test Loss: 0.7921, Test Accuracy: 82.00000000%\n",
            "Epoch 3, Train Loss: 0.5414, Train Accuracy: 85.00000000%, Test Loss: 0.5840, Test Accuracy: 82.00000000%\n",
            "Epoch 4, Train Loss: 0.3642, Train Accuracy: 91.00000000%, Test Loss: 0.5486, Test Accuracy: 84.00000000%\n",
            "Epoch 5, Train Loss: 0.2654, Train Accuracy: 91.50000000%, Test Loss: 0.3987, Test Accuracy: 88.00000000%\n"
          ]
        }
      ]
    },
    {
      "cell_type": "code",
      "execution_count": 6,
      "metadata": {
        "colab": {
          "base_uri": "https://localhost:8080/"
        },
        "id": "J5gctztI5t1d",
        "outputId": "02bf4c83-021a-4ec5-b319-1ff3b27da28a"
      },
      "outputs": [
        {
          "output_type": "stream",
          "name": "stdout",
          "text": [
            "Epoch 1, Train Loss: 2.3045, Train Accuracy: 10.50000000%, Test Loss: 2.2851, Test Accuracy: 12.00000000%\n",
            "Epoch 2, Train Loss: 2.2999, Train Accuracy: 11.00000000%, Test Loss: 2.2813, Test Accuracy: 14.00000000%\n",
            "Epoch 3, Train Loss: 2.2958, Train Accuracy: 11.00000000%, Test Loss: 2.2778, Test Accuracy: 14.00000000%\n",
            "Epoch 4, Train Loss: 2.2922, Train Accuracy: 13.00000000%, Test Loss: 2.2745, Test Accuracy: 18.00000000%\n",
            "Epoch 5, Train Loss: 2.2893, Train Accuracy: 14.50000000%, Test Loss: 2.2712, Test Accuracy: 24.00000000%\n"
          ]
        }
      ],
      "source": [
        "# Training setup\n",
        "device = torch.device('cpu')\n",
        "model2 = SimpleCNN().to(device)\n",
        "criterion = nn.CrossEntropyLoss()\n",
        "\n",
        "# Train the model\n",
        "train_model(5,model=model2, optimizer_choice='sgd')\n"
      ]
    }
  ],
  "metadata": {
    "kernelspec": {
      "display_name": ".venv",
      "language": "python",
      "name": "python3"
    },
    "language_info": {
      "codemirror_mode": {
        "name": "ipython",
        "version": 3
      },
      "file_extension": ".py",
      "mimetype": "text/x-python",
      "name": "python",
      "nbconvert_exporter": "python",
      "pygments_lexer": "ipython3",
      "version": "3.11.4"
    },
    "orig_nbformat": 4,
    "colab": {
      "provenance": []
    }
  },
  "nbformat": 4,
  "nbformat_minor": 0
}