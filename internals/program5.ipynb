{
 "cells": [
  {
   "attachments": {},
   "cell_type": "markdown",
   "metadata": {},
   "source": [
    "### Program 5\n",
    "#### Objective:\n",
    "Implement the AlexNet CNN architecture using the PyTorch framework, and train it on the MNIST\n",
    "digit classification dataset.\n",
    "Perform the following steps:\n",
    "- Preprocess data\n",
    "- Define AlexNet architecture\n",
    "- Define model train function\n",
    "- Train model using suitable criterion and optimizer"
   ]
  },
  {
   "cell_type": "code",
   "execution_count": 1,
   "metadata": {},
   "outputs": [],
   "source": [
    "import torch\n",
    "import torch.nn as nn\n",
    "import torch.optim as optim\n",
    "from torchvision import datasets, transforms\n",
    "from torch.utils.data import DataLoader, Subset\n",
    "import numpy as np"
   ]
  },
  {
   "cell_type": "code",
   "execution_count": 2,
   "metadata": {},
   "outputs": [],
   "source": [
    "transform = transforms.Compose([\n",
    "transforms.ToTensor(),\n",
    "transforms.Normalize((0.1307,), (0.3081,)) # normalization optional\n",
    "])\n",
    "train_dataset = datasets.MNIST(root=\"./data\", train=True, download=True,\n",
    "transform=transform)\n",
    "test_dataset = datasets.MNIST(root=\"./data\", train=False, download=True,\n",
    "transform=transform)\n",
    "train_subset = Subset(train_dataset, range(200))\n",
    "test_subset = Subset(test_dataset, range(50))\n",
    "train_loader = DataLoader(train_subset, batch_size=10, shuffle=True)\n",
    "test_loader = DataLoader(test_subset, batch_size=10, shuffle=False)"
   ]
  },
  {
   "cell_type": "code",
   "execution_count": 3,
   "metadata": {},
   "outputs": [],
   "source": [
    "class AlexNet(nn.Module):\n",
    "    def __init__(self, num_classes=10):\n",
    "        super(AlexNet, self).__init__()\n",
    "        self.features = nn.Sequential(\n",
    "        nn.Conv2d(1, 64, kernel_size=3, stride=1, padding=1),\n",
    "        nn.ReLU(inplace=True),\n",
    "        nn.MaxPool2d(kernel_size=2, stride=2),\n",
    "        nn.Conv2d(64, 192, kernel_size=3, padding=1),\n",
    "        nn.ReLU(inplace=True),\n",
    "        nn.MaxPool2d(kernel_size=2, stride=2),\n",
    "        nn.Conv2d(192, 384, kernel_size=3, padding=1),\n",
    "        nn.ReLU(inplace=True),\n",
    "        nn.Conv2d(384, 256, kernel_size=3, padding=1),\n",
    "        nn.ReLU(inplace=True),\n",
    "        nn.Conv2d(256, 256, kernel_size=3, padding=1),\n",
    "        nn.ReLU(inplace=True),\n",
    "        nn.MaxPool2d(kernel_size=2, stride=2),\n",
    "        )\n",
    "        self.classifier = nn.Sequential(\n",
    "        nn.Dropout(),\n",
    "        nn.Linear(256 * 3 * 3, 4096),\n",
    "        nn.ReLU(inplace=True),\n",
    "        nn.Dropout(),\n",
    "        nn.Linear(4096, 4096),\n",
    "        nn.ReLU(inplace=True),\n",
    "        nn.Linear(4096, num_classes),\n",
    "        )\n",
    "    def forward(self, x):\n",
    "        x = self.features(x)\n",
    "        x = torch.flatten(x, 1)\n",
    "        x = self.classifier(x)\n",
    "        return x"
   ]
  },
  {
   "cell_type": "code",
   "execution_count": 4,
   "metadata": {},
   "outputs": [],
   "source": [
    "model = AlexNet()\n",
    "optimizer = optim.Adam(model.parameters(), lr=0.001)\n",
    "criterion = nn.CrossEntropyLoss()"
   ]
  },
  {
   "cell_type": "code",
   "execution_count": 6,
   "metadata": {},
   "outputs": [],
   "source": [
    "def train_model(num_epochs):\n",
    "    for epoch in range(num_epochs):\n",
    "        model.train()\n",
    "        train_loss = 0.0\n",
    "        correct_train = 0\n",
    "        total_train = 0\n",
    "        for data, target in train_loader:\n",
    "            optimizer.zero_grad()\n",
    "            output = model(data)\n",
    "            loss = criterion(output, target)\n",
    "            loss.backward()\n",
    "            optimizer.step()\n",
    "            train_loss += loss.item()\n",
    "            predicted = torch.argmax(output.data, dim=1)\n",
    "            total_train += target.size(0)\n",
    "            correct_train += (predicted==target).sum().item()\n",
    "        avg_train_loss = train_loss/len(train_loader)\n",
    "        train_acc = 100 * correct_train/total_train\n",
    "        model.eval()\n",
    "        test_loss = 0.0\n",
    "        correct_test = 0\n",
    "        total_test = 0\n",
    "        with torch.no_grad():\n",
    "            for data, target in test_loader:\n",
    "                output = model(data)\n",
    "                loss = criterion(output, target)\n",
    "                test_loss += loss.item()\n",
    "                predicted = torch.argmax(output.data, dim=1)\n",
    "                total_test += target.size(0)\n",
    "                correct_test += (predicted==target).sum().item()\n",
    "        avg_test_loss = test_loss/len(test_loader)\n",
    "        test_acc = 100 * correct_test/total_test\n",
    "        print(f'Epoch {epoch+1}, Train Loss: {avg_train_loss:.4f}, Train Accuracy:{train_acc:.4f}%, 'f'Test Loss: {avg_test_loss:.4f}, Test Accuracy: {test_acc:.4f}%')\n"
   ]
  },
  {
   "cell_type": "code",
   "execution_count": 7,
   "metadata": {},
   "outputs": [
    {
     "name": "stdout",
     "output_type": "stream",
     "text": [
      "Epoch 1, Train Loss: 2.3250, Train Accuracy:9.5000%, Test Loss: 2.2633, Test Accuracy: 18.0000%\n",
      "Epoch 2, Train Loss: 2.2835, Train Accuracy:13.5000%, Test Loss: 2.2884, Test Accuracy: 12.0000%\n",
      "Epoch 3, Train Loss: 2.2649, Train Accuracy:15.5000%, Test Loss: 1.8961, Test Accuracy: 30.0000%\n",
      "Epoch 4, Train Loss: 2.0421, Train Accuracy:28.5000%, Test Loss: 1.7285, Test Accuracy: 44.0000%\n",
      "Epoch 5, Train Loss: 1.5619, Train Accuracy:44.0000%, Test Loss: 1.2823, Test Accuracy: 56.0000%\n",
      "Epoch 6, Train Loss: 1.4581, Train Accuracy:47.0000%, Test Loss: 0.9899, Test Accuracy: 64.0000%\n",
      "Epoch 7, Train Loss: 1.0600, Train Accuracy:62.0000%, Test Loss: 1.1577, Test Accuracy: 54.0000%\n",
      "Epoch 8, Train Loss: 1.0246, Train Accuracy:67.5000%, Test Loss: 1.0832, Test Accuracy: 56.0000%\n",
      "Epoch 9, Train Loss: 0.8982, Train Accuracy:68.0000%, Test Loss: 0.8229, Test Accuracy: 74.0000%\n",
      "Epoch 10, Train Loss: 0.5712, Train Accuracy:81.0000%, Test Loss: 0.6718, Test Accuracy: 82.0000%\n",
      "Epoch 11, Train Loss: 0.5652, Train Accuracy:82.5000%, Test Loss: 0.6557, Test Accuracy: 84.0000%\n",
      "Epoch 12, Train Loss: 0.3832, Train Accuracy:84.5000%, Test Loss: 0.4425, Test Accuracy: 86.0000%\n",
      "Epoch 13, Train Loss: 0.2930, Train Accuracy:90.0000%, Test Loss: 0.7165, Test Accuracy: 86.0000%\n",
      "Epoch 14, Train Loss: 0.2842, Train Accuracy:91.0000%, Test Loss: 0.3977, Test Accuracy: 88.0000%\n",
      "Epoch 15, Train Loss: 0.2233, Train Accuracy:93.5000%, Test Loss: 0.3589, Test Accuracy: 90.0000%\n"
     ]
    }
   ],
   "source": [
    "train_model(15)"
   ]
  }
 ],
 "metadata": {
  "kernelspec": {
   "display_name": ".venv",
   "language": "python",
   "name": "python3"
  },
  "language_info": {
   "codemirror_mode": {
    "name": "ipython",
    "version": 3
   },
   "file_extension": ".py",
   "mimetype": "text/x-python",
   "name": "python",
   "nbconvert_exporter": "python",
   "pygments_lexer": "ipython3",
   "version": "3.11.4"
  },
  "orig_nbformat": 4
 },
 "nbformat": 4,
 "nbformat_minor": 2
}
