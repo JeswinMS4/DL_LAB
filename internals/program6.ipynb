{
 "cells": [
  {
   "attachments": {},
   "cell_type": "markdown",
   "metadata": {},
   "source": [
    "### Program 6:\n",
    "Lab Exam: Text Classification with LSTM\n",
    "#### Objective: \n",
    "Implement a Python program using PyTorch to develop an LSTM-based model\n",
    "for binary text classification.\n",
    "Tasks:\n",
    "1. LSTM Model Setup:\n",
    "Define an LSTM classifier with embedding, LSTM, and fully connected layers. Adjust\n",
    "the model to handle a hypothetical vocabulary size and embedding dimensions.\n",
    "2. Data Preparation:\n",
    "Simulate a dataset where \"data\" represents text indices and \"labels\" are binary\n",
    "classification targets. Set up data loading and batching using DataLoader.\n",
    "3. Model Training:\n",
    "Train the LSTM model using the CrossEntropyLoss and Adam optimizer, monitoring\n",
    "the loss over epochs.\n"
   ]
  },
  {
   "cell_type": "code",
   "execution_count": 1,
   "metadata": {},
   "outputs": [],
   "source": [
    "import torch\n",
    "from torch import nn\n",
    "from torch.utils.data import DataLoader, TensorDataset"
   ]
  },
  {
   "cell_type": "code",
   "execution_count": 2,
   "metadata": {},
   "outputs": [],
   "source": [
    "data = torch.randint(0, 1000, (100, 10))\n",
    "labels = torch.randint(0, 2, (100,))\n",
    "dataset = TensorDataset(data, labels)\n",
    "loader = DataLoader(dataset, batch_size=10, shuffle=True)"
   ]
  },
  {
   "cell_type": "code",
   "execution_count": 3,
   "metadata": {},
   "outputs": [],
   "source": [
    "class LSTMClassifier(nn.Module):\n",
    "    def __init__(self, vocabsize, embeddingdim, hiddendim, outputdim):\n",
    "        super(LSTMClassifier, self).__init__()\n",
    "        self.embedding = nn.Embedding(vocabsize, embeddingdim)\n",
    "        self.lstm = nn.LSTM(embeddingdim, hiddendim, batch_first=True)\n",
    "        self.fc = nn.Linear(hiddendim, outputdim)\n",
    "    def forward(self, x):\n",
    "        x = self.embedding(x)\n",
    "        _, (hidden, _) = self.lstm(x)\n",
    "        return self.fc(hidden.squeeze(0))\n"
   ]
  },
  {
   "cell_type": "code",
   "execution_count": 5,
   "metadata": {},
   "outputs": [
    {
     "name": "stdout",
     "output_type": "stream",
     "text": [
      "Epoch 1, Loss: 0.7203492522239685\n",
      "Epoch 2, Loss: 0.634027361869812\n",
      "Epoch 3, Loss: 0.6040126085281372\n",
      "Epoch 4, Loss: 0.5326626896858215\n",
      "Epoch 5, Loss: 0.5157843232154846\n",
      "Epoch 6, Loss: 0.5109313726425171\n",
      "Epoch 7, Loss: 0.2826242446899414\n",
      "Epoch 8, Loss: 0.07831352949142456\n",
      "Epoch 9, Loss: 0.16482922434806824\n",
      "Epoch 10, Loss: 0.04838966578245163\n"
     ]
    }
   ],
   "source": [
    "model = LSTMClassifier(1000, 50, 100, 2)\n",
    "criterion = nn.CrossEntropyLoss()\n",
    "optimizer = torch.optim.Adam(model.parameters())\n",
    "for epoch in range(10):\n",
    "    for inputs, tgts in loader:\n",
    "        optimizer.zero_grad()\n",
    "        outputs = model(inputs)\n",
    "        loss = criterion(outputs, tgts)\n",
    "        loss.backward()\n",
    "        optimizer.step()\n",
    "    print(f\"Epoch {epoch+1}, Loss: {loss.item()}\")"
   ]
  }
 ],
 "metadata": {
  "kernelspec": {
   "display_name": ".venv",
   "language": "python",
   "name": "python3"
  },
  "language_info": {
   "codemirror_mode": {
    "name": "ipython",
    "version": 3
   },
   "file_extension": ".py",
   "mimetype": "text/x-python",
   "name": "python",
   "nbconvert_exporter": "python",
   "pygments_lexer": "ipython3",
   "version": "3.11.4"
  },
  "orig_nbformat": 4
 },
 "nbformat": 4,
 "nbformat_minor": 2
}
